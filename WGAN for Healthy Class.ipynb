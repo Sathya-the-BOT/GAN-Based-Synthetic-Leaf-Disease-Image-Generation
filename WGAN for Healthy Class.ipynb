{
 "cells": [
  {
   "cell_type": "code",
   "execution_count": null,
   "id": "4a96bae3",
   "metadata": {},
   "outputs": [],
   "source": [
    "import os\n",
    "import numpy as np\n",
    "from PIL import Image\n",
    "from tqdm import tqdm\n",
    "import tensorflow as tf\n",
    "from tensorflow.keras import layers"
   ]
  },
  {
   "cell_type": "code",
   "execution_count": null,
   "id": "0daa2789",
   "metadata": {},
   "outputs": [],
   "source": [
    "DATA_DIR = \"C:/Users/91701/Major demo1/H\"\n",
    "OUTPUT_DIR = \"C:/Users/91701/Major demo1/outputs\"\n",
    "CHECKPOINT_DIR = os.path.join(OUTPUT_DIR, \"checkpoints\")\n",
    "LOG_DIR = os.path.join(OUTPUT_DIR, \"logs\")"
   ]
  },
  {
   "cell_type": "code",
   "execution_count": null,
   "id": "769635ff",
   "metadata": {},
   "outputs": [],
   "source": [
    "IMAGE_SIZE = 128\n",
    "BATCH_SIZE = 8\n",
    "EPOCHS = 700\n",
    "LATENT_DIM = 100\n",
    "N_CRITIC = 5  # Discriminator updates per generator update\n",
    "LAMBDA_GP = 10  # Gradient penalty weight\n",
    "LEARNING_RATE = 5e-5\n",
    "G_LEARNING_RATE = 1e-4\n",
    "\n",
    "os.makedirs(OUTPUT_DIR, exist_ok=True)\n",
    "os.makedirs(CHECKPOINT_DIR, exist_ok=True)\n",
    "os.makedirs(LOG_DIR, exist_ok=True)"
   ]
  },
  {
   "cell_type": "code",
   "execution_count": null,
   "id": "a19a52d0",
   "metadata": {},
   "outputs": [],
   "source": [
    "device_name = \"GPU\" if tf.config.list_physical_devices('GPU') else \"CPU\"\n",
    "print(f\"Using device: {device_name}\")"
   ]
  },
  {
   "cell_type": "code",
   "execution_count": null,
   "id": "8ed9f292",
   "metadata": {},
   "outputs": [],
   "source": [
    "def load_images():\n",
    "    images = []\n",
    "    for file in os.listdir(DATA_DIR):\n",
    "        if file.lower().endswith(('png','jpg','jpeg')):\n",
    "            img = Image.open(os.path.join(DATA_DIR, file)).convert('RGB').resize((IMAGE_SIZE, IMAGE_SIZE))\n",
    "            img = np.array(img, dtype=np.float32)\n",
    "            img = (img / 127.5) - 1.0  # Normalize to [-1, 1]\n",
    "            images.append(img)\n",
    "    return np.array(images)\n",
    "\n",
    "images_np = load_images()\n",
    "print(f\"Loaded dataset: {images_np.shape}\")\n",
    "\n",
    "dataset = tf.data.Dataset.from_tensor_slices(images_np)"
   ]
  },
  {
   "cell_type": "code",
   "execution_count": null,
   "id": "7bd9a74e",
   "metadata": {},
   "outputs": [],
   "source": [
    "def augment(image):\n",
    "    image = tf.image.random_flip_left_right(image)\n",
    "    image = tf.image.random_brightness(image, 0.2)\n",
    "    image = tf.image.random_contrast(image, 0.8, 1.2)\n",
    "    return image\n",
    "\n",
    "dataset = dataset.map(augment, num_parallel_calls=tf.data.AUTOTUNE)\n",
    "dataset = dataset.shuffle(buffer_size=len(images_np)).batch(BATCH_SIZE, drop_remainder=True).prefetch(tf.data.AUTOTUNE)"
   ]
  },
  {
   "cell_type": "code",
   "execution_count": null,
   "id": "7d722095",
   "metadata": {},
   "outputs": [],
   "source": [
    "def build_generator(latent_dim):\n",
    "    model = tf.keras.Sequential([\n",
    "        layers.Input(shape=(latent_dim,)),\n",
    "        layers.Dense(8*8*256, use_bias=False),\n",
    "        layers.BatchNormalization(),\n",
    "        layers.LeakyReLU(),\n",
    "        layers.Reshape((8, 8, 256)),\n",
    "\n",
    "        layers.Conv2DTranspose(128, 5, strides=2, padding=\"same\", use_bias=False),\n",
    "        layers.BatchNormalization(), layers.LeakyReLU(),\n",
    "\n",
    "        layers.Conv2DTranspose(64, 5, strides=2, padding=\"same\", use_bias=False),\n",
    "        layers.BatchNormalization(), layers.LeakyReLU(),\n",
    "\n",
    "        layers.Conv2DTranspose(32, 5, strides=2, padding=\"same\", use_bias=False),\n",
    "        layers.BatchNormalization(), layers.LeakyReLU(),\n",
    "\n",
    "        layers.Conv2DTranspose(3, 5, strides=2, padding=\"same\", activation='tanh')\n",
    "    ])\n",
    "    return model"
   ]
  },
  {
   "cell_type": "code",
   "execution_count": null,
   "id": "ef858b83",
   "metadata": {},
   "outputs": [],
   "source": [
    "def build_discriminator(img_shape):\n",
    "    model = tf.keras.Sequential([\n",
    "        layers.Input(shape=img_shape),\n",
    "        layers.Conv2D(64, 5, strides=2, padding=\"same\"),\n",
    "        layers.LeakyReLU(0.2),\n",
    "\n",
    "        layers.Conv2D(128, 5, strides=2, padding=\"same\"),\n",
    "        layers.LayerNormalization(),\n",
    "        layers.LeakyReLU(0.2),\n",
    "\n",
    "        layers.Conv2D(256, 5, strides=2, padding=\"same\"),\n",
    "        layers.LayerNormalization(),\n",
    "        layers.LeakyReLU(0.2),\n",
    "\n",
    "        layers.Flatten(),\n",
    "        layers.Dense(1)\n",
    "    ])\n",
    "    return model\n",
    "\n",
    "generator = build_generator(LATENT_DIM)\n",
    "discriminator = build_discriminator((IMAGE_SIZE, IMAGE_SIZE, 3))\n"
   ]
  },
  {
   "cell_type": "code",
   "execution_count": null,
   "id": "3ff99e4c",
   "metadata": {},
   "outputs": [],
   "source": [
    "def gradient_penalty(batch_size, real_images, fake_images):\n",
    "    alpha = tf.random.uniform([batch_size, 1, 1, 1], 0.0, 1.0)\n",
    "    interpolated = alpha * real_images + (1 - alpha) * fake_images\n",
    "\n",
    "    with tf.GradientTape() as tape:\n",
    "        tape.watch(interpolated)\n",
    "        pred = discriminator(interpolated, training=True)\n",
    "    grads = tape.gradient(pred, [interpolated])[0]\n",
    "    norm = tf.sqrt(tf.reduce_sum(tf.square(grads), axis=[1, 2, 3]))\n",
    "    gp = tf.reduce_mean((norm - 1.0) ** 2)\n",
    "    return gp\n",
    "\n",
    "def generator_loss(fake_pred):\n",
    "    return -tf.reduce_mean(fake_pred)\n",
    "\n",
    "def discriminator_loss(real_pred, fake_pred):\n",
    "    return tf.reduce_mean(fake_pred) - tf.reduce_mean(real_pred)"
   ]
  },
  {
   "cell_type": "code",
   "execution_count": null,
   "id": "93b064b8",
   "metadata": {},
   "outputs": [],
   "source": [
    "generator_optimizer = tf.keras.optimizers.Adam(G_LEARNING_RATE, beta_1=0.0, beta_2=0.9)\n",
    "discriminator_optimizer = tf.keras.optimizers.Adam(LEARNING_RATE, beta_1=0.0, beta_2=0.9)"
   ]
  },
  {
   "cell_type": "code",
   "execution_count": null,
   "id": "fbb33df1",
   "metadata": {},
   "outputs": [],
   "source": [
    "checkpoint = tf.train.Checkpoint(generator=generator, discriminator=discriminator,\n",
    "                                 g_optimizer=generator_optimizer, d_optimizer=discriminator_optimizer)\n",
    "manager = tf.train.CheckpointManager(checkpoint, CHECKPOINT_DIR, max_to_keep=5)\n",
    "\n",
    "summary_writer = tf.summary.create_file_writer(LOG_DIR)"
   ]
  },
  {
   "cell_type": "code",
   "execution_count": null,
   "id": "31222f63",
   "metadata": {},
   "outputs": [],
   "source": [
    "@tf.function\n",
    "def train_step(real_images):\n",
    "    batch_size = tf.shape(real_images)[0]\n",
    "\n",
    "    for _ in range(N_CRITIC):\n",
    "        noise = tf.random.normal([batch_size, LATENT_DIM])\n",
    "\n",
    "        with tf.GradientTape() as disc_tape:\n",
    "            fake_images = generator(noise, training=True)\n",
    "            real_pred = discriminator(real_images, training=True)\n",
    "            fake_pred = discriminator(fake_images, training=True)\n",
    "\n",
    "            gp = gradient_penalty(batch_size, real_images, fake_images)\n",
    "            d_loss = discriminator_loss(real_pred, fake_pred) + LAMBDA_GP * gp\n",
    "\n",
    "        d_grad = disc_tape.gradient(d_loss, discriminator.trainable_variables)\n",
    "        discriminator_optimizer.apply_gradients(zip(d_grad, discriminator.trainable_variables))\n",
    "\n",
    "    noise = tf.random.normal([batch_size, LATENT_DIM])\n",
    "    with tf.GradientTape() as gen_tape:\n",
    "        fake_images = generator(noise, training=True)\n",
    "        fake_pred = discriminator(fake_images, training=True)\n",
    "        g_loss = generator_loss(fake_pred)\n",
    "\n",
    "    g_grad = gen_tape.gradient(g_loss, generator.trainable_variables)\n",
    "    generator_optimizer.apply_gradients(zip(g_grad, generator.trainable_variables))\n",
    "\n",
    "    return g_loss, d_loss"
   ]
  },
  {
   "cell_type": "code",
   "execution_count": null,
   "id": "f8e92b80",
   "metadata": {},
   "outputs": [],
   "source": [
    "def generate_and_save_images(epoch):\n",
    "    test_input = tf.random.normal([16, LATENT_DIM])\n",
    "    predictions = generator(test_input, training=False)\n",
    "    predictions = (predictions + 1.0) / 2.0\n",
    "\n",
    "    grid_img = np.zeros((IMAGE_SIZE*4, IMAGE_SIZE*4, 3))\n",
    "    for i in range(4):\n",
    "        for j in range(4):\n",
    "            img = predictions[i*4+j].numpy()\n",
    "            grid_img[i*IMAGE_SIZE:(i+1)*IMAGE_SIZE, j*IMAGE_SIZE:(j+1)*IMAGE_SIZE, :] = img\n",
    "\n",
    "    Image.fromarray((grid_img*255).astype(np.uint8)).save(os.path.join(OUTPUT_DIR, f\"epoch_{epoch:03d}.png\"))"
   ]
  },
  {
   "cell_type": "code",
   "execution_count": null,
   "id": "c0f74daa",
   "metadata": {},
   "outputs": [],
   "source": [
    "for epoch in range(1, EPOCHS+1):\n",
    "    g_losses, d_losses = [], []\n",
    "    for real_images in tqdm(dataset, desc=f\"Epoch {epoch}/{EPOCHS}\"):\n",
    "        g_loss, d_loss = train_step(real_images)\n",
    "        g_losses.append(g_loss.numpy())\n",
    "        d_losses.append(d_loss.numpy())\n",
    "\n",
    "    with summary_writer.as_default():\n",
    "        tf.summary.scalar('Generator Loss', np.mean(g_losses), step=epoch)\n",
    "        tf.summary.scalar('Discriminator Loss', np.mean(d_losses), step=epoch)\n",
    "\n",
    "    if epoch % 5 == 0:\n",
    "        generate_and_save_images(epoch)\n",
    "        manager.save()\n",
    "\n",
    "    print(f\"Epoch {epoch} | Gen Loss: {np.mean(g_losses):.4f} | Disc Loss: {np.mean(d_losses):.4f}\")"
   ]
  }
 ],
 "metadata": {
  "kernelspec": {
   "display_name": "Python 3 (ipykernel)",
   "language": "python",
   "name": "python3"
  },
  "language_info": {
   "codemirror_mode": {
    "name": "ipython",
    "version": 3
   },
   "file_extension": ".py",
   "mimetype": "text/x-python",
   "name": "python",
   "nbconvert_exporter": "python",
   "pygments_lexer": "ipython3",
   "version": "3.11.1"
  }
 },
 "nbformat": 4,
 "nbformat_minor": 5
}
